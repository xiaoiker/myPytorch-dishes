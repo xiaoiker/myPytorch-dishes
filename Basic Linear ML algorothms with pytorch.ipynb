{
 "cells": [
  {
   "cell_type": "markdown",
   "metadata": {},
   "source": [
    "### This chapter will be some basic implementation of some basic ML algorithms\n"
   ]
  },
  {
   "cell_type": "code",
   "execution_count": 36,
   "metadata": {},
   "outputs": [],
   "source": [
    "# 1. Linear regression\n",
    "\n",
    "import torch\n",
    "import torch.nn as nn\n",
    "import numpy as np\n",
    "\n",
    "import matplotlib.pyplot as plt\n",
    "from torch.autograd import Variable\n"
   ]
  },
  {
   "cell_type": "code",
   "execution_count": 10,
   "metadata": {},
   "outputs": [
    {
     "name": "stdout",
     "output_type": "stream",
     "text": [
      "15\n"
     ]
    }
   ],
   "source": [
    "# hyper parameters:\n",
    "input_size = 1\n",
    "output_size = 1\n",
    "num_epochs = 100\n",
    "learning_rate = 0.001\n",
    "\n",
    "# input data: just some point (x,y)\n",
    "\n",
    "x_train = np.array([[3.3], [4.4], [5.5], [6.71], [6.93], [4.168], \n",
    "                    [9.779], [6.182], [7.59], [2.167], [7.042], \n",
    "                    [10.791], [5.313], [7.997], [3.1]], dtype=np.float32)\n",
    "\n",
    "y_train = np.array([[1.7], [2.76], [2.09], [3.19], [1.694], [1.573], \n",
    "                    [3.366], [2.596], [2.53], [1.221], [2.827], \n",
    "                    [3.465], [1.65], [2.904], [1.3]], dtype=np.float32)\n",
    "\n",
    "print(x_train.size)"
   ]
  },
  {
   "cell_type": "code",
   "execution_count": 28,
   "metadata": {
    "scrolled": true
   },
   "outputs": [],
   "source": [
    "# build the LR model\n",
    "class LinearRegression(nn.Module):\n",
    "    # remember: self mean the instance itself\n",
    "    def __init__(self,input_size,output_size):\n",
    "        \n",
    "        super().__init__() # in python2: super(LinearRegression, self).__init__()\n",
    "        self.linear = nn.Linear(input_size, output_size)\n",
    "        \n",
    "    def forward(self,x):\n",
    "        output = self.linear(x)\n",
    "        return output\n",
    "\n",
    "\n",
    "    "
   ]
  },
  {
   "cell_type": "code",
   "execution_count": 32,
   "metadata": {},
   "outputs": [
    {
     "name": "stdout",
     "output_type": "stream",
     "text": [
      "Epoch [0/100], Loss:1.07894\n",
      "Epoch [5/100], Loss:0.53896\n",
      "Epoch [10/100], Loss:0.32020\n",
      "Epoch [15/100], Loss:0.23158\n",
      "Epoch [20/100], Loss:0.19567\n",
      "Epoch [25/100], Loss:0.18112\n",
      "Epoch [30/100], Loss:0.17522\n",
      "Epoch [35/100], Loss:0.17283\n",
      "Epoch [40/100], Loss:0.17185\n",
      "Epoch [45/100], Loss:0.17146\n",
      "Epoch [50/100], Loss:0.17129\n",
      "Epoch [55/100], Loss:0.17122\n",
      "Epoch [60/100], Loss:0.17119\n",
      "Epoch [65/100], Loss:0.17117\n",
      "Epoch [70/100], Loss:0.17116\n",
      "Epoch [75/100], Loss:0.17116\n",
      "Epoch [80/100], Loss:0.17115\n",
      "Epoch [85/100], Loss:0.17114\n",
      "Epoch [90/100], Loss:0.17114\n",
      "Epoch [95/100], Loss:0.17113\n"
     ]
    }
   ],
   "source": [
    "\n",
    "Model = LinearRegression(input_size, output_size)\n",
    "# optimization process\n",
    "\n",
    "criterion = nn.MSELoss()\n",
    "optimizer = torch.optim.SGD(Model.parameters(),lr = learning_rate)\n",
    "\n",
    "# Training process\n",
    "for epoch in range(num_epochs):\n",
    "    inputs = Variable(torch.from_numpy(x_train))\n",
    "    targets = Variable(torch.from_numpy(y_train))\n",
    "    \n",
    "    #Clears the gradients of all optimized Variable\n",
    "    optimizer.zero_grad()\n",
    "    outputs = Model(inputs)\n",
    "    loss = criterion(outputs, targets) # Note the CAN NOT repalce order\n",
    "    loss.backward()\n",
    "    optimizer.step()\n",
    "    \n",
    "    # print the training info\n",
    "    if (epoch % 5==0):\n",
    "        print('Epoch [%d/%d], Loss:%.5f'\n",
    "             % (epoch, num_epochs, loss.data[0]))\n",
    "                       "
   ]
  },
  {
   "cell_type": "code",
   "execution_count": 38,
   "metadata": {},
   "outputs": [
    {
     "data": {
      "image/png": "[encoded data removed]",
      "text/plain": [
       "<Figure size 432x288 with 1 Axes>"
      ]
     },
     "metadata": {},
     "output_type": "display_data"
    }
   ],
   "source": [
    "#Visualization with plot\n",
    "pred = Model(Variable(torch.from_numpy(x_train))).data.numpy()\n",
    "\n",
    "plt.plot(x_train, y_train, 'ro',label = 'Original data')\n",
    "plt.plot(x_train,pred, label = 'Fitted line')\n",
    "plt.legend()\n",
    "plt.show()"
   ]
  },
  {
   "cell_type": "code",
   "execution_count": null,
   "metadata": {},
   "outputs": [],
   "source": []
  }
 ],
 "metadata": {
  "kernelspec": {
   "display_name": "Python 3",
   "language": "python",
   "name": "python3"
  },
  "language_info": {
   "codemirror_mode": {
    "name": "ipython",
    "version": 3
   },
   "file_extension": ".py",
   "mimetype": "text/x-python",
   "name": "python",
   "nbconvert_exporter": "python",
   "pygments_lexer": "ipython3",
   "version": "3.5.5"
  }
 },
 "nbformat": 4,
 "nbformat_minor": 2
}
