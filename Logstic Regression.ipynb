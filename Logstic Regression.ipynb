{
 "cells": [
  {
   "cell_type": "code",
   "execution_count": 1,
   "metadata": {},
   "outputs": [],
   "source": [
    "import torch\n",
    "import torch.nn as nn\n",
    "import torchvision.datasets as dsets\n",
    "import torchvision.transforms as transforms\n",
    "from torch.autograd import Variable"
   ]
  },
  {
   "cell_type": "code",
   "execution_count": 5,
   "metadata": {},
   "outputs": [],
   "source": [
    "# training a Log R with MNIST dataset\n",
    "\n",
    "#Hyper Parameters\n",
    "input_size = 28*28\n",
    "n_classes = 10\n",
    "n_epochs = 5\n",
    "batch_size = 100\n",
    "learning_rate = 0.001\n",
    "\n",
    "# get the MNIST dataset\n",
    "\n",
    "train_dataset = dsets.MNIST(root = '../data',\n",
    "                           train = True,\n",
    "                           transform = transforms.ToTensor(),\n",
    "                           download = True)\n",
    "\n",
    "test_dataset = dsets.MNIST(root = '../data',\n",
    "                          train = False,\n",
    "                          transform = transforms.ToTensor())\n",
    "\n",
    "train_loader = torch.utils.data.DataLoader(dataset = train_dataset,\n",
    "                                          batch_size = batch_size,\n",
    "                                          shuffle = True)\n",
    "test_loader = torch.utils.data.DataLoader(dataset = test_dataset,\n",
    "                                          batch_size = batch_size,\n",
    "                                          shuffle = True)\n",
    "\n",
    "\n",
    "#Model\n",
    "class LogsticRegression(nn.Module):\n",
    "    def __init__(self, input_size, n_classes):\n",
    "        super().__init__()\n",
    "        self.linear = nn.Linear(input_size, n_classes)\n",
    "        \n",
    "    def forward(self,x):\n",
    "        out = self.linear(x)\n",
    "        return out\n",
    "    \n",
    "    "
   ]
  },
  {
   "cell_type": "code",
   "execution_count": 7,
   "metadata": {},
   "outputs": [
    {
     "name": "stdout",
     "output_type": "stream",
     "text": [
      "Epoch: [1/5], Step: [100/600], Loss: 0.6250\n",
      "Epoch: [1/5], Step: [200/600], Loss: 0.5586\n",
      "Epoch: [1/5], Step: [300/600], Loss: 0.6272\n",
      "Epoch: [1/5], Step: [400/600], Loss: 0.5340\n",
      "Epoch: [1/5], Step: [500/600], Loss: 0.8513\n",
      "Epoch: [1/5], Step: [600/600], Loss: 1.0648\n",
      "Epoch: [2/5], Step: [100/600], Loss: 0.7822\n",
      "Epoch: [2/5], Step: [200/600], Loss: 0.8385\n",
      "Epoch: [2/5], Step: [300/600], Loss: 0.7228\n",
      "Epoch: [2/5], Step: [400/600], Loss: 2.2469\n",
      "Epoch: [2/5], Step: [500/600], Loss: 0.4102\n",
      "Epoch: [2/5], Step: [600/600], Loss: 0.8654\n",
      "Epoch: [3/5], Step: [100/600], Loss: 1.4799\n",
      "Epoch: [3/5], Step: [200/600], Loss: 0.7947\n",
      "Epoch: [3/5], Step: [300/600], Loss: 0.7484\n",
      "Epoch: [3/5], Step: [400/600], Loss: 0.8271\n",
      "Epoch: [3/5], Step: [500/600], Loss: 1.5722\n",
      "Epoch: [3/5], Step: [600/600], Loss: 0.8290\n",
      "Epoch: [4/5], Step: [100/600], Loss: 1.5162\n",
      "Epoch: [4/5], Step: [200/600], Loss: 2.7864\n",
      "Epoch: [4/5], Step: [300/600], Loss: 2.3026\n",
      "Epoch: [4/5], Step: [400/600], Loss: 0.7490\n",
      "Epoch: [4/5], Step: [500/600], Loss: 1.8819\n",
      "Epoch: [4/5], Step: [600/600], Loss: 0.4656\n",
      "Epoch: [5/5], Step: [100/600], Loss: 2.0212\n",
      "Epoch: [5/5], Step: [200/600], Loss: 0.7089\n",
      "Epoch: [5/5], Step: [300/600], Loss: 1.3637\n",
      "Epoch: [5/5], Step: [400/600], Loss: 1.5745\n",
      "Epoch: [5/5], Step: [500/600], Loss: 1.5790\n",
      "Epoch: [5/5], Step: [600/600], Loss: 1.6885\n"
     ]
    }
   ],
   "source": [
    "# loss and optimizer\n",
    "model = LogsticRegression(input_size, n_classes)\n",
    "\n",
    "criterion = nn.CrossEntropyLoss()\n",
    "optimizer = torch.optim.SGD(model.parameters(),lr = learning_rate)\n",
    "\n",
    "#training the model\n",
    "for epoch in range(n_epochs):\n",
    "    for i, (images,labels) in enumerate(train_loader):\n",
    "        images = Variable(images.view(-1, 28*28))\n",
    "        labels = Variable(labels)\n",
    "        \n",
    "        pred = model(images)\n",
    "        loss = criterion(pred, labels)\n",
    "        loss.backward()\n",
    "        optimizer.step()\n",
    "\n",
    "                \n",
    "        if (i+1) % 100 == 0:\n",
    "            print ('Epoch: [%d/%d], Step: [%d/%d], Loss: %.4f' \n",
    "                   % (epoch+1, n_epochs, i+1, len(train_dataset)//batch_size, loss.data[0]))\n",
    "\n",
    "        \n",
    "    "
   ]
  },
  {
   "cell_type": "code",
   "execution_count": 8,
   "metadata": {},
   "outputs": [
    {
     "name": "stdout",
     "output_type": "stream",
     "text": [
      "Accuracy of the model on the 10000 test images: 90 %\n"
     ]
    }
   ],
   "source": [
    "\n",
    "\n",
    "# Test the Model\n",
    "correct = 0\n",
    "total = 0\n",
    "for images, labels in test_loader:\n",
    "    images = Variable(images.view(-1, 28*28))\n",
    "    outputs = model(images)\n",
    "    # torch.max(input, dim): dim (int) is the dimension to reduce\n",
    "    # return tensor and indexs\n",
    "    _, predicted = torch.max(outputs.data, 1)\n",
    "    total += labels.size(0)\n",
    "    correct += (predicted == labels).sum()\n",
    "    \n",
    "print('Accuracy of the model on the 10000 test images: %d %%' % (100 * correct / total))\n"
   ]
  },
  {
   "cell_type": "code",
   "execution_count": null,
   "metadata": {},
   "outputs": [],
   "source": []
  }
 ],
 "metadata": {
  "kernelspec": {
   "display_name": "Python 3",
   "language": "python",
   "name": "python3"
  },
  "language_info": {
   "codemirror_mode": {
    "name": "ipython",
    "version": 3
   },
   "file_extension": ".py",
   "mimetype": "text/x-python",
   "name": "python",
   "nbconvert_exporter": "python",
   "pygments_lexer": "ipython3",
   "version": "3.5.5"
  }
 },
 "nbformat": 4,
 "nbformat_minor": 2
}
